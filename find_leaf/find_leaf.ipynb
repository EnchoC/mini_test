{
 "cells": [
  {
   "cell_type": "code",
   "execution_count": 99,
   "metadata": {},
   "outputs": [
    {
     "name": "stdout",
     "output_type": "stream",
     "text": [
      "[{'channel_id': 2001, 'page_id': 11}, {'channel_id': 3001, 'page_id': 1}]\n"
     ]
    }
   ],
   "source": [
    "import time\n",
    "# -*- coding: utf-8 -*-\n",
    "## target 构成 target_format = '%s_%s' % (channel_id, page_id)\n",
    "s = [\n",
    "    {'channel_id' : 2001, 'page_id' : 10, 'target' : ['2001_11', 'response', '2001_12']},\n",
    "    {'channel_id' : 2001, 'page_id' : 11, 'target' : ['response']},\n",
    "    {'channel_id' : 2001, 'page_id' : 12, 'target' : ['3001_1', 'response']},\n",
    "    {'channel_id' : 3001, 'page_id' : 1, 'target' : ['response']},\n",
    "    {'channel_id' : 3001, 'page_id' : 2, 'target' : ['response']},\n",
    "    {'channel_id' : 3001, 'page_id' : 3, 'target' : ['response']},\n",
    "    {'channel_id' : 3001, 'page_id' : 4, 'target' : ['response']},\n",
    "]\n",
    "\n",
    "def get_leaf_node(channel_id, page_id):\n",
    "    \"\"\"\n",
    "    :channel_id int\n",
    "    :page_id int\n",
    "    :rtype list[dict]\n",
    "    \"\"\"\n",
    "    result = []\n",
    "    for i in s:\n",
    "        if i.values()[:-1] != [channel_id, page_id]:\n",
    "            continue\n",
    "        remain = i.values()[2]\n",
    "        if ['response'] == remain:\n",
    "            result.append({'channel_id':i.values()[0],'page_id':i.values()[1]})\n",
    "        else:\n",
    "            remain.remove('response');s.remove(i)\n",
    "            for x in remain:\n",
    "                channel, page = x.split('_')\n",
    "                result.extend(get_leaf_node(int(channel), int(page)))\n",
    "    return result\n",
    "\n",
    "channel_id = 2001\n",
    "page_id = 10\n",
    "result = get_leaf_node(channel_id, page_id)\n",
    "print(result)\n",
    "## [{'channel_id' : 2001, 'page_id' : 11}, {'channel_id' : 3001, 'page_id' : 1}]"
   ]
  },
  {
   "cell_type": "code",
   "execution_count": null,
   "metadata": {},
   "outputs": [],
   "source": []
  }
 ],
 "metadata": {
  "kernelspec": {
   "display_name": "Python 2",
   "language": "python",
   "name": "python2"
  },
  "language_info": {
   "codemirror_mode": {
    "name": "ipython",
    "version": 2
   },
   "file_extension": ".py",
   "mimetype": "text/x-python",
   "name": "python",
   "nbconvert_exporter": "python",
   "pygments_lexer": "ipython2",
   "version": "2.7.15"
  }
 },
 "nbformat": 4,
 "nbformat_minor": 2
}
