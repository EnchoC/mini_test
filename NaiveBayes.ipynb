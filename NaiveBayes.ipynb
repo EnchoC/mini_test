{
 "cells": [
  {
   "cell_type": "code",
   "execution_count": 2,
   "metadata": {},
   "outputs": [],
   "source": [
    "from sklearn.datasets import load_iris\n",
    "from sklearn.model_selection import train_test_split\n",
    "import numpy as np\n",
    "import pandas as pd"
   ]
  },
  {
   "cell_type": "code",
   "execution_count": 7,
   "metadata": {},
   "outputs": [],
   "source": [
    "def create_data():\n",
    "    iris = load_iris()\n",
    "    data = pd.DataFrame(iris.data, columns=[i.split(' (')[0].replace(' ','_') for i in iris.feature_names])\n",
    "    data['label'] = iris.target\n",
    "    X = np.array(data.iloc[:,:-1])\n",
    "    y = np.array(data.iloc[:,-1])\n",
    "    y = np.array([1 if i==0 else -1 for i in y])\n",
    "    return X, y"
   ]
  },
  {
   "cell_type": "code",
   "execution_count": 8,
   "metadata": {},
   "outputs": [],
   "source": [
    "X, y = create_data()\n",
    "X_train, X_test, y_train, y_test = train_test_split(X, y, test_size=.2)"
   ]
  },
  {
   "cell_type": "code",
   "execution_count": 12,
   "metadata": {},
   "outputs": [
    {
     "data": {
      "text/plain": [
       "(array([7.6, 3. , 6.6, 2.1]), -1)"
      ]
     },
     "execution_count": 12,
     "metadata": {},
     "output_type": "execute_result"
    }
   ],
   "source": [
    "X_train[0],y_train[0]"
   ]
  },
  {
   "cell_type": "code",
   "execution_count": 290,
   "metadata": {},
   "outputs": [],
   "source": [
    "import math\n",
    "from functools import reduce\n",
    "class NaiveBayes(object):\n",
    "    def __init__(self):\n",
    "        self.data = None\n",
    "    \n",
    "    def mean(self, X):\n",
    "        return sum(X) / float(len(X))\n",
    "    \n",
    "    def stdev(self, X):\n",
    "        avg = self.mean(X)\n",
    "        return np.sqrt( sum([(x-avg)**2 for x in X]) / float(len(X)) )\n",
    "    \n",
    "    def separateByClass(self, X, y):\n",
    "        labels = list(set(y))\n",
    "        separated = {i:[] for i in labels}\n",
    "        for label, value in zip(y, X):\n",
    "            separated[label].append(value)\n",
    "        return separated\n",
    "    \n",
    "    def calculateProbability(self, x, mean, stdev):\n",
    "        return (1 / (math.sqrt(2*math.pi) * stdev)) * np.exp( -(x-mean)**2 / (2 * stdev**2) )\n",
    "    \n",
    "    def calculateClassProbabilities(self, x, mean, stdev):\n",
    "        return reduce(lambda x,y: x*y, self.calculateProbability(x ,mean, stdev))\n",
    "    \n",
    "    def fit(self, X, y):\n",
    "        self.rdim, self.cdim = X.shape\n",
    "        self.data = self.separateByClass(X, y)\n",
    "        \n",
    "    def predict(self, x):\n",
    "        if not self.data: raise Exception('the model need train data')\n",
    "        probability = {label:self.calculateClassProbabilities(x ,self.mean(value),self.stdev(value)) \\\n",
    "                for label,value in self.data.items()}\n",
    "        return list(probability.keys())[list(probability.values()).index(max(probability.values()))]\n",
    "\n",
    "    def score(self, X_test, y_test):\n",
    "        right_cnt = [1 for X, y in zip(X_test, y_test) if y == self.predict(X)]\n",
    "        return sum(right_cnt)/float(len(X_test))"
   ]
  },
  {
   "cell_type": "code",
   "execution_count": 294,
   "metadata": {},
   "outputs": [
    {
     "data": {
      "text/plain": [
       "1"
      ]
     },
     "execution_count": 294,
     "metadata": {},
     "output_type": "execute_result"
    }
   ],
   "source": [
    "model = NaiveBayes()\n",
    "model.fit(X,y)\n",
    "model.predict(X_test[2])"
   ]
  },
  {
   "cell_type": "code",
   "execution_count": 292,
   "metadata": {},
   "outputs": [
    {
     "data": {
      "text/plain": [
       "1.0"
      ]
     },
     "execution_count": 292,
     "metadata": {},
     "output_type": "execute_result"
    }
   ],
   "source": [
    "model.score(X_test, y_test)"
   ]
  }
 ],
 "metadata": {
  "kernelspec": {
   "display_name": "Python3",
   "language": "python",
   "name": "python3"
  },
  "language_info": {
   "codemirror_mode": {
    "name": "ipython",
    "version": 3
   },
   "file_extension": ".py",
   "mimetype": "text/x-python",
   "name": "python",
   "nbconvert_exporter": "python",
   "pygments_lexer": "ipython3",
   "version": "3.7.2"
  }
 },
 "nbformat": 4,
 "nbformat_minor": 2
}
