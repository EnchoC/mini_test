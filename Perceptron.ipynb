{
 "cells": [
  {
   "cell_type": "code",
   "execution_count": 119,
   "metadata": {},
   "outputs": [],
   "source": [
    "import pandas as pd\n",
    "import numpy as np\n",
    "import matplotlib.pyplot as plt\n",
    "%matplotlib inline\n",
    "from sklearn.datasets import load_iris"
   ]
  },
  {
   "cell_type": "code",
   "execution_count": 120,
   "metadata": {},
   "outputs": [],
   "source": [
    "iris = load_iris()"
   ]
  },
  {
   "cell_type": "code",
   "execution_count": 121,
   "metadata": {},
   "outputs": [
    {
     "data": {
      "text/plain": [
       "['DESCR', 'data', 'feature_names', 'filename', 'target', 'target_names']"
      ]
     },
     "execution_count": 121,
     "metadata": {},
     "output_type": "execute_result"
    }
   ],
   "source": [
    "dir(iris)"
   ]
  },
  {
   "cell_type": "code",
   "execution_count": 122,
   "metadata": {},
   "outputs": [],
   "source": [
    "data = pd.DataFrame(iris.data, columns=[i.split(' (')[0].replace(' ','_') for i in iris.feature_names])\n",
    "data['label'] = iris.target"
   ]
  },
  {
   "cell_type": "code",
   "execution_count": 123,
   "metadata": {},
   "outputs": [
    {
     "data": {
      "text/plain": [
       "Text(0, 0.5, 'sepal_width')"
      ]
     },
     "execution_count": 123,
     "metadata": {},
     "output_type": "execute_result"
    },
    {
     "data": {
      "image/png": "[encoded data removed]",
      "text/plain": [
       "<Figure size 432x288 with 1 Axes>"
      ]
     },
     "metadata": {
      "needs_background": "light"
     },
     "output_type": "display_data"
    }
   ],
   "source": [
    "x, y = data.columns.tolist()[:2]\n",
    "plt.scatter(data[data['label']!=0][x], data[data['label']!=0][y], label='0')\n",
    "plt.scatter(data[data['label']==0][x], data[data['label']==0][y], label='1')\n",
    "plt.xlabel(x)\n",
    "plt.ylabel(y)"
   ]
  },
  {
   "cell_type": "code",
   "execution_count": 124,
   "metadata": {},
   "outputs": [],
   "source": [
    "X = np.array(data[data.columns.tolist()[:2]])\n",
    "y = np.array(data.iloc[:,-1])\n",
    "y = np.array([1 if i==0 else -1 for i in y])"
   ]
  },
  {
   "cell_type": "code",
   "execution_count": 125,
   "metadata": {},
   "outputs": [],
   "source": [
    "# 从上图可得，数据集线性可分\n",
    "class PerceptronModel(object):\n",
    "    def __init__(self, dataLen):\n",
    "        self.w = np.ones(dataLen, dtype=np.float32)\n",
    "        self.b = 0\n",
    "        self.learingRate = 0.01\n",
    "    \n",
    "    def sign(self, x, w, b):\n",
    "        return 1 if np.dot(x, w) + b >=0 else -1\n",
    "    \n",
    "    def fit(self, X_train, y_train):\n",
    "        is_wrong = False\n",
    "        while not is_wrong:\n",
    "            wrong_cnt = 0\n",
    "            for row in range(len(X_train)):\n",
    "                X = X_train[row]\n",
    "                y = y_train[row]\n",
    "                if y * self.sign(X, self.w, self.b) <=0:\n",
    "                    self.w = self.w + self.learingRate * np.dot(y, X)\n",
    "                    self.b = self.b + self.learingRate * y\n",
    "                    wrong_cnt += 1\n",
    "            if not wrong_cnt: is_wrong = True"
   ]
  },
  {
   "cell_type": "code",
   "execution_count": 126,
   "metadata": {},
   "outputs": [],
   "source": [
    "model = PerceptronModel(len(X[0]))\n",
    "model.fit(X, y)"
   ]
  },
  {
   "cell_type": "code",
   "execution_count": 127,
   "metadata": {},
   "outputs": [
    {
     "data": {
      "text/plain": [
       "<matplotlib.legend.Legend at 0x123aa2198>"
      ]
     },
     "execution_count": 127,
     "metadata": {},
     "output_type": "execute_result"
    },
    {
     "data": {
      "image/png": "[encoded data removed]",
      "text/plain": [
       "<Figure size 432x288 with 1 Axes>"
      ]
     },
     "metadata": {
      "needs_background": "light"
     },
     "output_type": "display_data"
    }
   ],
   "source": [
    "x_ = np.linspace(4, 7, 10)\n",
    "y_ = -(model.w[0]*x_ + model.b)/model.w[1]\n",
    "plt.plot(x_, y_)\n",
    "xl, yl = data.columns.tolist()[:2]\n",
    "plt.scatter(data[data['label']!=0][xl], data[data['label']!=0][yl], label='0')\n",
    "plt.scatter(data[data['label']==0][xl], data[data['label']==0][yl], label='1')\n",
    "plt.xlabel(xl)\n",
    "plt.ylabel(yl)\n",
    "plt.legend()"
   ]
  },
  {
   "cell_type": "code",
   "execution_count": 128,
   "metadata": {},
   "outputs": [
    {
     "data": {
      "text/plain": [
       "Perceptron(alpha=0.0001, class_weight=None, early_stopping=False, eta0=1.0,\n",
       "      fit_intercept=False, max_iter=None, n_iter=100, n_iter_no_change=5,\n",
       "      n_jobs=None, penalty=None, random_state=0, shuffle=False, tol=None,\n",
       "      validation_fraction=0.1, verbose=0, warm_start=False)"
      ]
     },
     "execution_count": 128,
     "metadata": {},
     "output_type": "execute_result"
    }
   ],
   "source": [
    "# 使用sklearn的感知器\n",
    "from sklearn.linear_model import Perceptron\n",
    "clf = Perceptron(fit_intercept=False,\n",
    "                n_iter=100,\n",
    "                shuffle=False)\n",
    "clf.fit(X,y)"
   ]
  },
  {
   "cell_type": "code",
   "execution_count": 129,
   "metadata": {},
   "outputs": [
    {
     "data": {
      "text/plain": [
       "array([[-37.4,  61.1]])"
      ]
     },
     "execution_count": 129,
     "metadata": {},
     "output_type": "execute_result"
    }
   ],
   "source": [
    "# 不同列的权重\n",
    "clf.coef_"
   ]
  },
  {
   "cell_type": "code",
   "execution_count": 130,
   "metadata": {},
   "outputs": [
    {
     "data": {
      "text/plain": [
       "array([0.])"
      ]
     },
     "execution_count": 130,
     "metadata": {},
     "output_type": "execute_result"
    }
   ],
   "source": [
    "# 截距\n",
    "clf.intercept_"
   ]
  },
  {
   "cell_type": "code",
   "execution_count": 132,
   "metadata": {},
   "outputs": [
    {
     "data": {
      "text/plain": [
       "<matplotlib.legend.Legend at 0x123869f98>"
      ]
     },
     "execution_count": 132,
     "metadata": {},
     "output_type": "execute_result"
    },
    {
     "data": {
      "image/png": "[encoded data removed]",
      "text/plain": [
       "<Figure size 432x288 with 1 Axes>"
      ]
     },
     "metadata": {
      "needs_background": "light"
     },
     "output_type": "display_data"
    }
   ],
   "source": [
    "x_ = np.linspace(4, 7, 10)\n",
    "y_ = -(clf.coef_[0][0]*x_ + clf.intercept_)/clf.coef_[0][1]\n",
    "plt.plot(x_, y_)\n",
    "xl, yl = data.columns.tolist()[:2]\n",
    "plt.scatter(data[data['label']!=0][xl], data[data['label']!=0][yl], label='0')\n",
    "plt.scatter(data[data['label']==0][xl], data[data['label']==0][yl], label='1')\n",
    "plt.xlabel(xl)\n",
    "plt.ylabel(yl)\n",
    "plt.legend()"
   ]
  }
 ],
 "metadata": {
  "kernelspec": {
   "display_name": "Python3",
   "language": "python",
   "name": "python3"
  },
  "language_info": {
   "codemirror_mode": {
    "name": "ipython",
    "version": 3
   },
   "file_extension": ".py",
   "mimetype": "text/x-python",
   "name": "python",
   "nbconvert_exporter": "python",
   "pygments_lexer": "ipython3",
   "version": "3.7.2"
  }
 },
 "nbformat": 4,
 "nbformat_minor": 2
}
