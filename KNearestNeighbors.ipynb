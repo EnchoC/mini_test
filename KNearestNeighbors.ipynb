{
 "cells": [
  {
   "cell_type": "code",
   "execution_count": 42,
   "metadata": {},
   "outputs": [],
   "source": [
    "import math\n",
    "from itertools import combinations\n",
    "import pandas as pd\n",
    "import numpy as np\n",
    "import matplotlib.pyplot as plt\n",
    "%matplotlib inline\n",
    "from sklearn.datasets import load_iris\n",
    "from sklearn.model_selection import train_test_split\n",
    "from collections import Counter\n",
    "from pprint import pprint\n",
    "import json"
   ]
  },
  {
   "cell_type": "code",
   "execution_count": 43,
   "metadata": {},
   "outputs": [],
   "source": [
    "import math\n",
    "\n",
    "x1 = [1,1]\n",
    "x2 = [5,1]\n",
    "x3 = [4,4]\n",
    "\n",
    "def distance(x,y,p=1):\n",
    "    cnt = 0\n",
    "    if len(x)==len(y) and len(x)>1:\n",
    "        for i in range(len(x)):\n",
    "            cnt += math.pow(abs(x[i]-y[i]), p)\n",
    "    return math.pow(cnt, 1/p)"
   ]
  },
  {
   "cell_type": "code",
   "execution_count": 44,
   "metadata": {},
   "outputs": [
    {
     "data": {
      "text/plain": [
       "4.0"
      ]
     },
     "execution_count": 44,
     "metadata": {},
     "output_type": "execute_result"
    }
   ],
   "source": [
    "distance(x1, x2, p=1)"
   ]
  },
  {
   "cell_type": "code",
   "execution_count": 45,
   "metadata": {},
   "outputs": [
    {
     "data": {
      "text/plain": [
       "6.0"
      ]
     },
     "execution_count": 45,
     "metadata": {},
     "output_type": "execute_result"
    }
   ],
   "source": [
    "distance(x1, x3, p=1)"
   ]
  },
  {
   "cell_type": "code",
   "execution_count": 46,
   "metadata": {},
   "outputs": [
    {
     "data": {
      "text/plain": [
       "4.242640687119285"
      ]
     },
     "execution_count": 46,
     "metadata": {},
     "output_type": "execute_result"
    }
   ],
   "source": [
    "distance(x1, x3, p=2)"
   ]
  },
  {
   "cell_type": "code",
   "execution_count": 47,
   "metadata": {},
   "outputs": [
    {
     "data": {
      "text/plain": [
       "3.7797631496846193"
      ]
     },
     "execution_count": 47,
     "metadata": {},
     "output_type": "execute_result"
    }
   ],
   "source": [
    "distance(x1, x3, p=3)"
   ]
  },
  {
   "cell_type": "code",
   "execution_count": 48,
   "metadata": {},
   "outputs": [
    {
     "data": {
      "text/plain": [
       "3.5676213450081633"
      ]
     },
     "execution_count": 48,
     "metadata": {},
     "output_type": "execute_result"
    }
   ],
   "source": [
    "distance(x1, x3, p=4)"
   ]
  },
  {
   "cell_type": "code",
   "execution_count": 49,
   "metadata": {},
   "outputs": [],
   "source": [
    "class KNN(object):\n",
    "    def __init__(self, X_train, y_train, n_neighbors=3, p=2):\n",
    "        \"\"\"\n",
    "        param n_neighbors 邻近点个数\n",
    "        param p 距离度量\n",
    "        \"\"\"\n",
    "        self.n_neighbors = n_neighbors\n",
    "        self.p = p\n",
    "        self.X_train = X_train\n",
    "        self.y_train = y_train\n",
    "    \n",
    "    def predict(self, X):\n",
    "        knn_list = []\n",
    "        for i in range(self.n_neighbors):\n",
    "            iDist = np.linalg.norm(X-self.X_train[i], ord=self.p)\n",
    "            knn_list.append((iDist, self.y_train[i]))\n",
    "        for i in range(self.n_neighbors, len(self.X_train)):\n",
    "            maxDistIndex = knn_list.index(max(knn_list, key=lambda x:x[0]))\n",
    "            dist = np.linalg.norm(X-self.X_train[i], ord=self.p)\n",
    "            if knn_list[maxDistIndex][0] > dist:\n",
    "                knn_list[maxDistIndex] = (dist, self.y_train[i])\n",
    "        knn = [k[-1] for k in knn_list]\n",
    "        countPairs = Counter(knn)\n",
    "        maxCount = sorted(countPairs, key=lambda x:x)[-1]\n",
    "        return maxCount\n",
    "    \n",
    "    def score(self, X_test, y_test):\n",
    "        rightCnt = 0\n",
    "        for X,y in zip(X_test, y_test):\n",
    "            label = self.predict(X)\n",
    "            if label==y: rightCnt += 1\n",
    "        return rightCnt/len(X_test)"
   ]
  },
  {
   "cell_type": "code",
   "execution_count": 50,
   "metadata": {},
   "outputs": [],
   "source": [
    "iris = load_iris()\n",
    "data = pd.DataFrame(iris.data, columns=[i.split(' (')[0].replace(' ','_') for i in iris.feature_names])\n",
    "data['label'] = iris.target"
   ]
  },
  {
   "cell_type": "code",
   "execution_count": 51,
   "metadata": {},
   "outputs": [],
   "source": [
    "X = np.array(data[data.columns.tolist()[:2]])\n",
    "y = np.array(data.iloc[:,-1])\n",
    "y = np.array([1 if i==0 else -1 for i in y])"
   ]
  },
  {
   "cell_type": "code",
   "execution_count": 52,
   "metadata": {},
   "outputs": [],
   "source": [
    "X_train, X_test, y_train, y_test = train_test_split(X, y, test_size=.2)"
   ]
  },
  {
   "cell_type": "code",
   "execution_count": 53,
   "metadata": {},
   "outputs": [],
   "source": [
    "clf = KNN(X_train, y_train)"
   ]
  },
  {
   "cell_type": "code",
   "execution_count": 54,
   "metadata": {},
   "outputs": [
    {
     "data": {
      "text/plain": [
       "1.0"
      ]
     },
     "execution_count": 54,
     "metadata": {},
     "output_type": "execute_result"
    }
   ],
   "source": [
    "clf.score(X_test, y_test)"
   ]
  },
  {
   "cell_type": "code",
   "execution_count": 55,
   "metadata": {},
   "outputs": [
    {
     "data": {
      "text/plain": [
       "-1"
      ]
     },
     "execution_count": 55,
     "metadata": {},
     "output_type": "execute_result"
    }
   ],
   "source": [
    "test = [6.2, 3.0]\n",
    "clf.predict(test)"
   ]
  },
  {
   "cell_type": "code",
   "execution_count": 56,
   "metadata": {},
   "outputs": [
    {
     "data": {
      "text/plain": [
       "<matplotlib.legend.Legend at 0x12afb6898>"
      ]
     },
     "execution_count": 56,
     "metadata": {},
     "output_type": "execute_result"
    },
    {
     "data": {
      "image/png": "[encoded data removed]",
      "text/plain": [
       "<Figure size 432x288 with 1 Axes>"
      ]
     },
     "metadata": {
      "needs_background": "light"
     },
     "output_type": "display_data"
    }
   ],
   "source": [
    "x, y = data.columns.tolist()[:2]\n",
    "plt.scatter(data[data['label']!=0][x], data[data['label']!=0][y], label='1')\n",
    "plt.scatter(data[data['label']==0][x], data[data['label']==0][y], label='-1')\n",
    "plt.plot(test[0], test[1], 'bo', label='test')\n",
    "plt.xlabel(x)\n",
    "plt.ylabel(y)\n",
    "plt.legend()"
   ]
  },
  {
   "cell_type": "code",
   "execution_count": 57,
   "metadata": {},
   "outputs": [],
   "source": [
    "from sklearn.neighbors import KNeighborsClassifier"
   ]
  },
  {
   "cell_type": "code",
   "execution_count": 58,
   "metadata": {},
   "outputs": [
    {
     "data": {
      "text/plain": [
       "KNeighborsClassifier(algorithm='auto', leaf_size=30, metric='minkowski',\n",
       "           metric_params=None, n_jobs=None, n_neighbors=5, p=2,\n",
       "           weights='uniform')"
      ]
     },
     "execution_count": 58,
     "metadata": {},
     "output_type": "execute_result"
    }
   ],
   "source": [
    "clf_skl = KNeighborsClassifier()\n",
    "clf_skl.fit(X_train, y_train)"
   ]
  },
  {
   "cell_type": "code",
   "execution_count": 59,
   "metadata": {},
   "outputs": [
    {
     "data": {
      "text/plain": [
       "1.0"
      ]
     },
     "execution_count": 59,
     "metadata": {},
     "output_type": "execute_result"
    }
   ],
   "source": [
    "clf_skl.score(X_test, y_test)"
   ]
  },
  {
   "cell_type": "code",
   "execution_count": 60,
   "metadata": {},
   "outputs": [
    {
     "data": {
      "text/plain": [
       "array([-1])"
      ]
     },
     "execution_count": 60,
     "metadata": {},
     "output_type": "execute_result"
    }
   ],
   "source": [
    "clf_skl.predict(np.array(test).reshape(1,2))"
   ]
  },
  {
   "cell_type": "code",
   "execution_count": 61,
   "metadata": {},
   "outputs": [],
   "source": [
    "sample = [(2,3),(5,4),(9,6),(4,7),(8,1),(7,2)]"
   ]
  },
  {
   "cell_type": "code",
   "execution_count": 62,
   "metadata": {},
   "outputs": [
    {
     "data": {
      "text/plain": [
       "[(2, 3), (4, 7), (5, 4), (7, 2), (8, 1), (9, 6)]"
      ]
     },
     "execution_count": 62,
     "metadata": {},
     "output_type": "execute_result"
    }
   ],
   "source": [
    "sorted(sample, key=lambda x: x[0])"
   ]
  },
  {
   "cell_type": "code",
   "execution_count": 115,
   "metadata": {},
   "outputs": [],
   "source": [
    "import operator\n",
    "from collections import defaultdict\n",
    "\n",
    "def tree():\n",
    "    return defaultdict(tree)\n",
    "\n",
    "class KdTree(object):\n",
    "    def __init__(self): \n",
    "        self.Node = tree()\n",
    "    \n",
    "    def getSplit(self, X):\n",
    "        self.n = X.shape[1] if not isinstance(X, list) else len(X[0])\n",
    "        varList = {}\n",
    "        for i in range(self.n):\n",
    "            varList[i] = np.var(list(map(lambda x:x[i], X)))\n",
    "        maxVarIndex = max(varList, key=varList.get)\n",
    "        return maxVarIndex\n",
    "    \n",
    "    def kdTree(self, X, curNode=None):\n",
    "        if not X: return None\n",
    "        index = self.getSplit(X)\n",
    "        X = sorted(X ,key=operator.itemgetter(index))\n",
    "        medIndex = len(X) // 2\n",
    "        if curNode == None:\n",
    "            self.Node['value'] = X[medIndex]\n",
    "            self.Node['splitIndex'] = index\n",
    "            self.Node['left'] = self.kdTree(X[:medIndex], self.Node['left'])\n",
    "            self.Node['right'] = self.kdTree(X[medIndex+1:], self.Node['right'])\n",
    "            return self.Node\n",
    "        else:\n",
    "            curNode['value'] = X[medIndex]\n",
    "            curNode['splitIndex'] = index\n",
    "            curNode['left'] = self.kdTree(X[:medIndex], curNode['left'])\n",
    "            curNode['right'] = self.kdTree(X[medIndex+1:], curNode['right'])\n",
    "            return curNode\n",
    "    \n",
    "    def kdFind(self, Node, target):\n",
    "        \"\"\"\n",
    "        TODO: equals problem \n",
    "        \"\"\"\n",
    "        if not Node: return None\n",
    "        if target[Node['splitIndex']] > Node['value'][Node['splitIndex']]:\n",
    "            rNode = Node['right']\n",
    "        else:\n",
    "            rNode = Node['left']\n",
    "        if not rNode.get('right') and not rNode.get('left'): return rNode\n",
    "        else: return self.kdFind(rNode, target)"
   ]
  },
  {
   "cell_type": "code",
   "execution_count": 116,
   "metadata": {},
   "outputs": [
    {
     "data": {
      "text/plain": [
       "defaultdict(<function __main__.tree()>,\n",
       "            {'value': (7, 2),\n",
       "             'splitIndex': 0,\n",
       "             'left': defaultdict(<function __main__.tree()>,\n",
       "                         {'value': (5, 4),\n",
       "                          'splitIndex': 1,\n",
       "                          'left': defaultdict(<function __main__.tree()>,\n",
       "                                      {'value': (2, 3),\n",
       "                                       'splitIndex': 0,\n",
       "                                       'left': None,\n",
       "                                       'right': None}),\n",
       "                          'right': defaultdict(<function __main__.tree()>,\n",
       "                                      {'value': (4, 7),\n",
       "                                       'splitIndex': 0,\n",
       "                                       'left': None,\n",
       "                                       'right': None})}),\n",
       "             'right': defaultdict(<function __main__.tree()>,\n",
       "                         {'value': (9, 6),\n",
       "                          'splitIndex': 1,\n",
       "                          'left': defaultdict(<function __main__.tree()>,\n",
       "                                      {'value': (8, 1),\n",
       "                                       'splitIndex': 0,\n",
       "                                       'left': None,\n",
       "                                       'right': None}),\n",
       "                          'right': None})})"
      ]
     },
     "execution_count": 116,
     "metadata": {},
     "output_type": "execute_result"
    }
   ],
   "source": [
    "model = KdTree()\n",
    "t2 = model.kdTree(sample)\n",
    "t2"
   ]
  },
  {
   "cell_type": "code",
   "execution_count": 117,
   "metadata": {},
   "outputs": [
    {
     "data": {
      "text/plain": [
       "defaultdict(<function __main__.tree()>,\n",
       "            {'value': (4, 7), 'splitIndex': 0, 'left': None, 'right': None})"
      ]
     },
     "execution_count": 117,
     "metadata": {},
     "output_type": "execute_result"
    }
   ],
   "source": [
    "model.kdFind(t2, (4,5))"
   ]
  },
  {
   "cell_type": "code",
   "execution_count": null,
   "metadata": {},
   "outputs": [],
   "source": []
  },
  {
   "cell_type": "code",
   "execution_count": null,
   "metadata": {},
   "outputs": [],
   "source": []
  }
 ],
 "metadata": {
  "kernelspec": {
   "display_name": "Python3",
   "language": "python",
   "name": "python3"
  },
  "language_info": {
   "codemirror_mode": {
    "name": "ipython",
    "version": 3
   },
   "file_extension": ".py",
   "mimetype": "text/x-python",
   "name": "python",
   "nbconvert_exporter": "python",
   "pygments_lexer": "ipython3",
   "version": "3.7.2"
  }
 },
 "nbformat": 4,
 "nbformat_minor": 2
}
