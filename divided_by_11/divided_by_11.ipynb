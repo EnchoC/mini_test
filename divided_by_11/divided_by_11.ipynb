{
 "cells": [
  {
   "cell_type": "markdown",
   "metadata": {},
   "source": [
    "# 如何快速的判断整数能否被11整除?"
   ]
  },
  {
   "cell_type": "code",
   "execution_count": 1,
   "metadata": {},
   "outputs": [],
   "source": [
    "# 题目源自\n",
    "# https://mp.weixin.qq.com/s/YO5GPh6v4FSZPyBj7BEzjg"
   ]
  },
  {
   "cell_type": "code",
   "execution_count": 4,
   "metadata": {},
   "outputs": [],
   "source": [
    "# 思路分析(找规律)\n",
    "# 1位数：除了0以外都不能被整除\n",
    "# 2位数：只有11,22..99能被整除\n",
    "# 3位数：121,132,143等等，只要百分位加个位等于十分位即可被整除\n",
    "# 4位数：这个就比较难的。。"
   ]
  },
  {
   "cell_type": "code",
   "execution_count": 5,
   "metadata": {},
   "outputs": [],
   "source": [
    "# 假设有个整数n\n",
    "# 则n可以表示为 a_1*10^(n-1) + a_2*10^(n-2)...a_n*10^0\n",
    "# 只要a_1 + -a_2 + a_3+...+ a_n*(-1)^(n-1) == 0则貌似可以被被除"
   ]
  },
  {
   "cell_type": "code",
   "execution_count": 10,
   "metadata": {},
   "outputs": [
    {
     "data": {
      "text/plain": [
       "False"
      ]
     },
     "execution_count": 10,
     "metadata": {},
     "output_type": "execute_result"
    }
   ],
   "source": [
    "def DivBy11(num):\n",
    "    n = 0\n",
    "    res = 0\n",
    "    for i in (str(num)):\n",
    "        res += int(i)*(-1)**n\n",
    "        n +=1\n",
    "    if not res: return True\n",
    "    return False\n",
    "DivBy11(31231)"
   ]
  }
 ],
 "metadata": {
  "kernelspec": {
   "display_name": "Python 2",
   "language": "python",
   "name": "python2"
  },
  "language_info": {
   "codemirror_mode": {
    "name": "ipython",
    "version": 2
   },
   "file_extension": ".py",
   "mimetype": "text/x-python",
   "name": "python",
   "nbconvert_exporter": "python",
   "pygments_lexer": "ipython2",
   "version": "2.7.15"
  }
 },
 "nbformat": 4,
 "nbformat_minor": 2
}
