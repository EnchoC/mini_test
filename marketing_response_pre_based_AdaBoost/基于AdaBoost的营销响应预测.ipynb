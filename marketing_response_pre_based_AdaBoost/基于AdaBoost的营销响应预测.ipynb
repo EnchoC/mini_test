{
 "cells": [
  {
   "cell_type": "code",
   "execution_count": 83,
   "metadata": {},
   "outputs": [],
   "source": [
    "import time\n",
    "import numpy as np\n",
    "import pandas as pd\n",
    "import copy\n",
    "from sklearn.preprocessing import OneHotEncoder\n",
    "from sklearn.model_selection import StratifiedKFold, cross_val_score #交叉检验\n",
    "from sklearn.feature_selection import SelectPercentile, f_classif #特征选择方法\n",
    "from sklearn.ensemble import AdaBoostClassifier #集成算法\n",
    "from sklearn.pipeline import Pipeline #Pipeline库\n",
    "from sklearn.metrics import accuracy_score #准确率指标\n",
    "import warnings\n",
    "warnings.filterwarnings('ignore')"
   ]
  },
  {
   "cell_type": "markdown",
   "metadata": {},
   "source": [
    "### 1、数据应用"
   ]
  },
  {
   "cell_type": "code",
   "execution_count": 44,
   "metadata": {},
   "outputs": [],
   "source": [
    "# 加载数据\n",
    "data = pd.read_excel('order.xlsx', sheetname=0)"
   ]
  },
  {
   "cell_type": "code",
   "execution_count": 45,
   "metadata": {},
   "outputs": [
    {
     "data": {
      "text/html": [
       "<div>\n",
       "<style scoped>\n",
       "    .dataframe tbody tr th:only-of-type {\n",
       "        vertical-align: middle;\n",
       "    }\n",
       "\n",
       "    .dataframe tbody tr th {\n",
       "        vertical-align: top;\n",
       "    }\n",
       "\n",
       "    .dataframe thead th {\n",
       "        text-align: right;\n",
       "    }\n",
       "</style>\n",
       "<table border=\"1\" class=\"dataframe\">\n",
       "  <thead>\n",
       "    <tr style=\"text-align: right;\">\n",
       "      <th></th>\n",
       "      <th>age</th>\n",
       "      <th>total_pageviews</th>\n",
       "      <th>edu</th>\n",
       "      <th>edu_ages</th>\n",
       "      <th>user_level</th>\n",
       "      <th>industry</th>\n",
       "      <th>value_level</th>\n",
       "      <th>act_level</th>\n",
       "      <th>sex</th>\n",
       "      <th>blue_money</th>\n",
       "      <th>red_money</th>\n",
       "      <th>work_hours</th>\n",
       "      <th>region</th>\n",
       "      <th>response</th>\n",
       "    </tr>\n",
       "  </thead>\n",
       "  <tbody>\n",
       "    <tr>\n",
       "      <th>0</th>\n",
       "      <td>39.0</td>\n",
       "      <td>77516.0</td>\n",
       "      <td>1.0</td>\n",
       "      <td>13.0</td>\n",
       "      <td>1.0</td>\n",
       "      <td>1.0</td>\n",
       "      <td>1</td>\n",
       "      <td>1.0</td>\n",
       "      <td>1.0</td>\n",
       "      <td>2174</td>\n",
       "      <td>0.0</td>\n",
       "      <td>40</td>\n",
       "      <td>1.0</td>\n",
       "      <td>0</td>\n",
       "    </tr>\n",
       "    <tr>\n",
       "      <th>1</th>\n",
       "      <td>50.0</td>\n",
       "      <td>83311.0</td>\n",
       "      <td>1.0</td>\n",
       "      <td>13.0</td>\n",
       "      <td>2.0</td>\n",
       "      <td>2.0</td>\n",
       "      <td>2</td>\n",
       "      <td>1.0</td>\n",
       "      <td>1.0</td>\n",
       "      <td>0</td>\n",
       "      <td>0.0</td>\n",
       "      <td>13</td>\n",
       "      <td>1.0</td>\n",
       "      <td>0</td>\n",
       "    </tr>\n",
       "    <tr>\n",
       "      <th>2</th>\n",
       "      <td>38.0</td>\n",
       "      <td>215646.0</td>\n",
       "      <td>2.0</td>\n",
       "      <td>9.0</td>\n",
       "      <td>3.0</td>\n",
       "      <td>3.0</td>\n",
       "      <td>1</td>\n",
       "      <td>1.0</td>\n",
       "      <td>1.0</td>\n",
       "      <td>0</td>\n",
       "      <td>0.0</td>\n",
       "      <td>40</td>\n",
       "      <td>1.0</td>\n",
       "      <td>0</td>\n",
       "    </tr>\n",
       "    <tr>\n",
       "      <th>3</th>\n",
       "      <td>53.0</td>\n",
       "      <td>234721.0</td>\n",
       "      <td>2.0</td>\n",
       "      <td>7.0</td>\n",
       "      <td>2.0</td>\n",
       "      <td>3.0</td>\n",
       "      <td>2</td>\n",
       "      <td>2.0</td>\n",
       "      <td>1.0</td>\n",
       "      <td>0</td>\n",
       "      <td>0.0</td>\n",
       "      <td>40</td>\n",
       "      <td>1.0</td>\n",
       "      <td>0</td>\n",
       "    </tr>\n",
       "  </tbody>\n",
       "</table>\n",
       "</div>"
      ],
      "text/plain": [
       "    age  total_pageviews  edu  edu_ages  user_level  industry  value_level  \\\n",
       "0  39.0          77516.0  1.0      13.0         1.0       1.0            1   \n",
       "1  50.0          83311.0  1.0      13.0         2.0       2.0            2   \n",
       "2  38.0         215646.0  2.0       9.0         3.0       3.0            1   \n",
       "3  53.0         234721.0  2.0       7.0         2.0       3.0            2   \n",
       "\n",
       "   act_level  sex  blue_money  red_money  work_hours  region  response  \n",
       "0        1.0  1.0        2174        0.0          40     1.0         0  \n",
       "1        1.0  1.0           0        0.0          13     1.0         0  \n",
       "2        1.0  1.0           0        0.0          40     1.0         0  \n",
       "3        2.0  1.0           0        0.0          40     1.0         0  "
      ]
     },
     "execution_count": 45,
     "metadata": {},
     "output_type": "execute_result"
    }
   ],
   "source": [
    "data.head(4)"
   ]
  },
  {
   "cell_type": "code",
   "execution_count": 46,
   "metadata": {},
   "outputs": [],
   "source": [
    "# 分割数据X，Y\n",
    "X = data.drop('response',axis=1)\n",
    "y = data['response']"
   ]
  },
  {
   "cell_type": "markdown",
   "metadata": {},
   "source": [
    "### 2、数据审查和预处理"
   ]
  },
  {
   "cell_type": "code",
   "execution_count": 47,
   "metadata": {},
   "outputs": [],
   "source": [
    "# 基本状态查看\n",
    "def fprint(s):\n",
    "    print '{:-^100}'.format(s)\n",
    "\n",
    "def get_summary(data):\n",
    "    fprint(' Data Overview ')\n",
    "    fprint(' Records: {0}|Dimension: {1} '.format(data.shape[0], (data.shape[1] - 1)))\n",
    "    fprint(' Date Sample ')\n",
    "    fprint(data.head(3))\n",
    "    fprint(' Data Desc ')\n",
    "    fprint(data.describe())\n",
    "    fprint(' Data Info ')\n",
    "    print(data.info())\n",
    "    fprint(' End')"
   ]
  },
  {
   "cell_type": "code",
   "execution_count": 48,
   "metadata": {},
   "outputs": [
    {
     "name": "stdout",
     "output_type": "stream",
     "text": [
      "------------------------------------------ Data Overview -------------------------------------------\n",
      "----------------------------------- Records: 39999|Dimension: 13 -----------------------------------\n",
      "------------------------------------------- Date Sample --------------------------------------------\n",
      "    age  total_pageviews  edu  edu_ages  user_level  industry  value_level  \\\n",
      "0  39.0          77516.0  1.0      13.0         1.0       1.0            1   \n",
      "1  50.0          83311.0  1.0      13.0         2.0       2.0            2   \n",
      "2  38.0         215646.0  2.0       9.0         3.0       3.0            1   \n",
      "\n",
      "   act_level  sex  blue_money  red_money  work_hours  region  response  \n",
      "0        1.0  1.0        2174        0.0          40     1.0         0  \n",
      "1        1.0  1.0           0        0.0          13     1.0         0  \n",
      "2        1.0  1.0           0        0.0          40     1.0         0  \n",
      "-------------------------------------------- Data Desc ---------------------------------------------\n",
      "                age  total_pageviews           edu      edu_ages  \\\n",
      "count  39998.000000     3.999800e+04  39998.000000  39998.000000   \n",
      "mean      38.589654     1.895136e+05      2.511626     10.076754   \n",
      "std       13.663490     1.053109e+05      1.638110      2.573384   \n",
      "min       17.000000     1.228500e+04      1.000000      1.000000   \n",
      "25%       28.000000     1.175282e+05      2.000000      9.000000   \n",
      "50%       37.000000     1.783410e+05      2.000000     10.000000   \n",
      "75%       48.000000     2.372685e+05      2.000000     12.000000   \n",
      "max       90.000000     1.484705e+06     10.000000     16.000000   \n",
      "\n",
      "         user_level      industry   value_level     act_level           sex  \\\n",
      "count  39998.000000  39997.000000  39999.000000  39998.000000  39998.000000   \n",
      "mean       2.087004      5.677126      2.546289      1.221036      0.668083   \n",
      "std        1.260992      3.395948      1.443210      0.626618      0.470907   \n",
      "min        1.000000      1.000000      1.000000      1.000000      0.000000   \n",
      "25%        1.000000      3.000000      1.000000      1.000000      0.000000   \n",
      "50%        2.000000      5.000000      2.000000      1.000000      1.000000   \n",
      "75%        2.000000      8.000000      4.000000      1.000000      1.000000   \n",
      "max        7.000000     15.000000      6.000000      5.000000      1.000000   \n",
      "\n",
      "         blue_money     red_money    work_hours        region      response  \n",
      "count  39999.000000  39998.000000  39999.000000  39997.000000  39999.000000  \n",
      "mean    1089.142529     87.379394     40.442486      2.251519      0.239606  \n",
      "std     7491.275548    402.930350     12.376033      4.913482      0.426848  \n",
      "min        0.000000      0.000000      1.000000      1.000000      0.000000  \n",
      "25%        0.000000      0.000000     40.000000      1.000000      0.000000  \n",
      "50%        0.000000      0.000000     40.000000      1.000000      0.000000  \n",
      "75%        0.000000      0.000000     45.000000      1.000000      0.000000  \n",
      "max    99999.000000   4356.000000     99.000000     41.000000      1.000000  \n",
      "-------------------------------------------- Data Info ---------------------------------------------\n",
      "<class 'pandas.core.frame.DataFrame'>\n",
      "RangeIndex: 39999 entries, 0 to 39998\n",
      "Data columns (total 14 columns):\n",
      "age                39998 non-null float64\n",
      "total_pageviews    39998 non-null float64\n",
      "edu                39998 non-null float64\n",
      "edu_ages           39998 non-null float64\n",
      "user_level         39998 non-null float64\n",
      "industry           39997 non-null float64\n",
      "value_level        39999 non-null int64\n",
      "act_level          39998 non-null float64\n",
      "sex                39998 non-null float64\n",
      "blue_money         39999 non-null int64\n",
      "red_money          39998 non-null float64\n",
      "work_hours         39999 non-null int64\n",
      "region             39997 non-null float64\n",
      "response           39999 non-null int64\n",
      "dtypes: float64(10), int64(4)\n",
      "memory usage: 4.3 MB\n",
      "None\n",
      "------------------------------------------------ End------------------------------------------------\n"
     ]
    }
   ],
   "source": [
    "get_summary(data)"
   ]
  },
  {
   "cell_type": "code",
   "execution_count": 49,
   "metadata": {},
   "outputs": [
    {
     "data": {
      "text/plain": [
       "age                 True\n",
       "total_pageviews     True\n",
       "edu                 True\n",
       "edu_ages            True\n",
       "user_level          True\n",
       "industry            True\n",
       "value_level        False\n",
       "act_level           True\n",
       "sex                 True\n",
       "blue_money         False\n",
       "red_money           True\n",
       "work_hours         False\n",
       "region              True\n",
       "response           False\n",
       "dtype: bool"
      ]
     },
     "execution_count": 49,
     "metadata": {},
     "output_type": "execute_result"
    }
   ],
   "source": [
    "# 缺失值检查\n",
    "# 有缺失的列\n",
    "data.isnull().any(axis=0)"
   ]
  },
  {
   "cell_type": "code",
   "execution_count": 50,
   "metadata": {},
   "outputs": [
    {
     "data": {
      "text/plain": [
       "12"
      ]
     },
     "execution_count": 50,
     "metadata": {},
     "output_type": "execute_result"
    }
   ],
   "source": [
    "# 有缺失的行记录个数\n",
    "data.isnull().any(axis=1).sum()"
   ]
  },
  {
   "cell_type": "code",
   "execution_count": 51,
   "metadata": {},
   "outputs": [
    {
     "data": {
      "text/plain": [
       "<matplotlib.axes._subplots.AxesSubplot at 0x125a92cd0>"
      ]
     },
     "execution_count": 51,
     "metadata": {},
     "output_type": "execute_result"
    },
    {
     "data": {
      "image/png": "[encoded data removed]",
      "text/plain": [
       "<Figure size 432x288 with 1 Axes>"
      ]
     },
     "metadata": {
      "needs_background": "light"
     },
     "output_type": "display_data"
    }
   ],
   "source": [
    "# 类样本均衡均衡审查，选取分类列value_level、user_level等，以目标变量为维度\n",
    "col = 'value_level'\n",
    "data[col].groupby(data['response']).count().plot.bar()\n",
    "# 类样本分布均衡，无需做类样本均衡处理"
   ]
  },
  {
   "cell_type": "code",
   "execution_count": 52,
   "metadata": {},
   "outputs": [],
   "source": [
    "# 数据备份\n",
    "data_bak = data.copy()"
   ]
  },
  {
   "cell_type": "code",
   "execution_count": 53,
   "metadata": {},
   "outputs": [
    {
     "name": "stdout",
     "output_type": "stream",
     "text": [
      "Check NA exists:  0\n"
     ]
    },
    {
     "data": {
      "text/html": [
       "<div>\n",
       "<style scoped>\n",
       "    .dataframe tbody tr th:only-of-type {\n",
       "        vertical-align: middle;\n",
       "    }\n",
       "\n",
       "    .dataframe tbody tr th {\n",
       "        vertical-align: top;\n",
       "    }\n",
       "\n",
       "    .dataframe thead th {\n",
       "        text-align: right;\n",
       "    }\n",
       "</style>\n",
       "<table border=\"1\" class=\"dataframe\">\n",
       "  <thead>\n",
       "    <tr style=\"text-align: right;\">\n",
       "      <th></th>\n",
       "      <th>age</th>\n",
       "      <th>total_pageviews</th>\n",
       "      <th>edu</th>\n",
       "      <th>edu_ages</th>\n",
       "      <th>user_level</th>\n",
       "      <th>industry</th>\n",
       "      <th>value_level</th>\n",
       "      <th>act_level</th>\n",
       "      <th>sex</th>\n",
       "      <th>blue_money</th>\n",
       "      <th>red_money</th>\n",
       "      <th>work_hours</th>\n",
       "      <th>region</th>\n",
       "    </tr>\n",
       "  </thead>\n",
       "  <tbody>\n",
       "    <tr>\n",
       "      <th>0</th>\n",
       "      <td>39.0</td>\n",
       "      <td>77516.0</td>\n",
       "      <td>1.0</td>\n",
       "      <td>13.0</td>\n",
       "      <td>1.0</td>\n",
       "      <td>1.0</td>\n",
       "      <td>1</td>\n",
       "      <td>1.0</td>\n",
       "      <td>1.0</td>\n",
       "      <td>2174</td>\n",
       "      <td>0.0</td>\n",
       "      <td>40</td>\n",
       "      <td>1.0</td>\n",
       "    </tr>\n",
       "    <tr>\n",
       "      <th>1</th>\n",
       "      <td>50.0</td>\n",
       "      <td>83311.0</td>\n",
       "      <td>1.0</td>\n",
       "      <td>13.0</td>\n",
       "      <td>2.0</td>\n",
       "      <td>2.0</td>\n",
       "      <td>2</td>\n",
       "      <td>1.0</td>\n",
       "      <td>1.0</td>\n",
       "      <td>0</td>\n",
       "      <td>0.0</td>\n",
       "      <td>13</td>\n",
       "      <td>1.0</td>\n",
       "    </tr>\n",
       "    <tr>\n",
       "      <th>2</th>\n",
       "      <td>38.0</td>\n",
       "      <td>215646.0</td>\n",
       "      <td>2.0</td>\n",
       "      <td>9.0</td>\n",
       "      <td>3.0</td>\n",
       "      <td>3.0</td>\n",
       "      <td>1</td>\n",
       "      <td>1.0</td>\n",
       "      <td>1.0</td>\n",
       "      <td>0</td>\n",
       "      <td>0.0</td>\n",
       "      <td>40</td>\n",
       "      <td>1.0</td>\n",
       "    </tr>\n",
       "  </tbody>\n",
       "</table>\n",
       "</div>"
      ],
      "text/plain": [
       "    age  total_pageviews  edu  edu_ages  user_level  industry  value_level  \\\n",
       "0  39.0          77516.0  1.0      13.0         1.0       1.0            1   \n",
       "1  50.0          83311.0  1.0      13.0         2.0       2.0            2   \n",
       "2  38.0         215646.0  2.0       9.0         3.0       3.0            1   \n",
       "\n",
       "   act_level  sex  blue_money  red_money  work_hours  region  \n",
       "0        1.0  1.0        2174        0.0          40     1.0  \n",
       "1        1.0  1.0           0        0.0          13     1.0  \n",
       "2        1.0  1.0           0        0.0          40     1.0  "
      ]
     },
     "execution_count": 53,
     "metadata": {},
     "output_type": "execute_result"
    }
   ],
   "source": [
    "# 缺失值替换\n",
    "def na_replace(df):\n",
    "    na_rules = {\n",
    "        'age': df['age'].mean(),\n",
    "        'total_pageviews': df['total_pageviews'].mean(),\n",
    "        'edu': df['edu'].mean(),\n",
    "        'edu_ages': df['edu_ages'].median(),\n",
    "        'user_level': df['user_level'].median(),\n",
    "        'industry': df['industry'].median(),\n",
    "        'act_level': df['act_level'].median(),\n",
    "        'sex': df['sex'].median(),\n",
    "        'red_money': df['red_money'].mean(),\n",
    "        'region': df['region'].median(),\n",
    "    }\n",
    "    data_tra = df.fillna(na_rules)\n",
    "    print 'Check NA exists: ',data_tra.isnull().any().sum()\n",
    "    return data_tra\n",
    "X_1 = na_replace(X)\n",
    "X_1.head(3)"
   ]
  },
  {
   "cell_type": "code",
   "execution_count": 56,
   "metadata": {},
   "outputs": [
    {
     "data": {
      "text/plain": [
       "age                float64\n",
       "total_pageviews    float64\n",
       "edu                  int32\n",
       "edu_ages             int32\n",
       "user_level           int32\n",
       "industry             int32\n",
       "value_level          int64\n",
       "act_level            int32\n",
       "sex                  int32\n",
       "blue_money           int64\n",
       "red_money          float64\n",
       "work_hours           int64\n",
       "region               int32\n",
       "dtype: object"
      ]
     },
     "execution_count": 56,
     "metadata": {},
     "output_type": "execute_result"
    }
   ],
   "source": [
    "# 数据变量转换\n",
    "def dtype_con(df):\n",
    "    val_list = {\n",
    "        'edu':'int32',\n",
    "        'edu_ages':'int32',\n",
    "        'user_level':'int32',\n",
    "        'industry':'int32',\n",
    "        'act_level':'int32',\n",
    "        'sex':'int32',\n",
    "        'region':'int32',\n",
    "    }\n",
    "    for var,val_type in val_list.items():\n",
    "        df[var] = df[var].astype(val_type)\n",
    "    return df\n",
    "X_2 = dtype_con(X_1)\n",
    "X_2.dtypes"
   ]
  },
  {
   "cell_type": "code",
   "execution_count": 59,
   "metadata": {},
   "outputs": [
    {
     "data": {
      "text/plain": [
       "array([[1.000e+00, 0.000e+00, 0.000e+00, ..., 2.174e+03, 0.000e+00,\n",
       "        4.000e+01],\n",
       "       [1.000e+00, 0.000e+00, 0.000e+00, ..., 0.000e+00, 0.000e+00,\n",
       "        1.300e+01],\n",
       "       [0.000e+00, 1.000e+00, 0.000e+00, ..., 0.000e+00, 0.000e+00,\n",
       "        4.000e+01],\n",
       "       ...,\n",
       "       [0.000e+00, 0.000e+00, 0.000e+00, ..., 0.000e+00, 0.000e+00,\n",
       "        4.500e+01],\n",
       "       [0.000e+00, 1.000e+00, 0.000e+00, ..., 0.000e+00, 0.000e+00,\n",
       "        2.200e+01],\n",
       "       [0.000e+00, 1.000e+00, 0.000e+00, ..., 0.000e+00, 0.000e+00,\n",
       "        4.000e+01]])"
      ]
     },
     "execution_count": 59,
     "metadata": {},
     "output_type": "execute_result"
    }
   ],
   "source": [
    "# 将分类和顺序数据转换为标志\n",
    "def symbol_transfer(df, enc_object=None, train=True):\n",
    "    \"\"\"\n",
    "    Des 将分类和顺序变量转换为二值化的标志变量\n",
    "    :param df: 数据框\n",
    "    :param enc_object: sklearn的标志转换对象，训练阶段设置默认值为None；预测阶段使用从训练阶段获得的转换对象\n",
    "    :param train: 是否为训练阶段\n",
    "    :return: 转化后的数据框、标志转化对象（train=True）\n",
    "    \"\"\"\n",
    "    convert_cols = ['edu','user_level','industry','value_level','act_level','sex','region']\n",
    "    no_convert_cols = df.columns.tolist()\n",
    "    [no_convert_cols.remove(col) for col in convert_cols]\n",
    "    df_con = df[convert_cols] # 要做标志转化的数据dataframe\n",
    "    df_org = df[no_convert_cols].values # 不做标志转化的列numpy.ndarray\n",
    "    if train:\n",
    "        enc = OneHotEncoder() # 建立标志转化模型对象\n",
    "        enc.fit(df_con) # 训练模型\n",
    "        df_con_new = enc.transform(df_con).toarray() # 转换数据并输出数组格式\n",
    "        new_metrix = np.hstack((df_con_new, df_org)) # 合并数据\n",
    "        return new_metrix, enc\n",
    "    else:\n",
    "        df_con_new = enc_object.transform(df_con).toarray() # 使用训练阶段获得的转换对象转换数据并输出数组\n",
    "        new_metrix = np.hstack((df_con_new, df_org)) # 合并数据\n",
    "        return new_metrix\n",
    "X_new,enc = symbol_transfer(X_2, enc_object=None, train=True)\n",
    "X_new"
   ]
  },
  {
   "cell_type": "markdown",
   "metadata": {},
   "source": [
    "#### 小插曲 Numpy.hstack/vstack"
   ]
  },
  {
   "cell_type": "code",
   "execution_count": 77,
   "metadata": {},
   "outputs": [
    {
     "name": "stdout",
     "output_type": "stream",
     "text": [
      "a/b shape: (2, 3)\n",
      "hstack: (2, 6)\n",
      "concatenate(..,axis=1): (2, 6)\n",
      "vstack: (4, 3)\n",
      "concatenate(..,axis=0): (4, 3)\n"
     ]
    }
   ],
   "source": [
    "# h(v)stack(para)\n",
    "\"\"\"\n",
    ":param para: 需要合并的两个矩阵，格式必须为元组tuple\n",
    ":return: numpy.ndarray\n",
    "\"\"\"\n",
    "b = a = np.arange(6).reshape(2,3)\n",
    "print 'a/b shape:',b.shape\n",
    "print 'hstack:',np.hstack((a,b)).shape # 左右合并\n",
    "print 'concatenate(..,axis=1):',np.concatenate((a,b), axis=1).shape # hstack等价于concatenate(..,axis=1)\n",
    "print 'vstack:',np.vstack((a,b)).shape # 上下合并\n",
    "print 'concatenate(..,axis=0):',np.concatenate((a,b), axis=0).shape # vstack等价于concatenate(..,axis=0)"
   ]
  },
  {
   "cell_type": "markdown",
   "metadata": {},
   "source": [
    "### 3、分类模型训练"
   ]
  },
  {
   "cell_type": "code",
   "execution_count": 92,
   "metadata": {},
   "outputs": [
    {
     "name": "stdout",
     "output_type": "stream",
     "text": [
      "-------------------------------------------set param: 20--------------------------------------------\n",
      "              0     1     2     3     4  mean   std\n",
      "accuracy   0.85  0.85  0.86  0.86  0.86  0.85  0.01\n",
      "f1         0.66  0.64  0.66  0.66  0.66  0.66  0.01\n",
      "precision  0.72  0.74  0.76  0.78  0.77  0.75  0.02\n",
      "recall     0.60  0.57  0.59  0.58  0.57  0.58  0.01\n",
      "roc_auc    0.91  0.90  0.91  0.91  0.91  0.91  0.00\n",
      "----------------------------------------time: 11.0082759857-----------------------------------------\n",
      "-------------------------------------------set param: 50--------------------------------------------\n",
      "              0     1     2     3     4  mean   std\n",
      "accuracy   0.86  0.86  0.86  0.87  0.86  0.86  0.00\n",
      "f1         0.66  0.66  0.67  0.69  0.68  0.67  0.01\n",
      "precision  0.75  0.76  0.77  0.78  0.77  0.77  0.01\n",
      "recall     0.59  0.58  0.59  0.62  0.61  0.60  0.02\n",
      "roc_auc    0.91  0.91  0.91  0.92  0.92  0.91  0.00\n",
      "----------------------------------------time: 24.7135848999-----------------------------------------\n",
      "-------------------------------------------set param: 80--------------------------------------------\n",
      "              0     1     2     3     4  mean   std\n",
      "accuracy   0.86  0.86  0.86  0.87  0.86  0.86  0.00\n",
      "f1         0.67  0.66  0.68  0.70  0.68  0.68  0.01\n",
      "precision  0.76  0.77  0.77  0.79  0.76  0.77  0.01\n",
      "recall     0.60  0.58  0.61  0.62  0.62  0.61  0.02\n",
      "roc_auc    0.92  0.91  0.92  0.92  0.92  0.92  0.00\n",
      "----------------------------------------time: 38.5178899765-----------------------------------------\n",
      "-------------------------------------------set param: 100-------------------------------------------\n",
      "              0     1     2     3     4  mean   std\n",
      "accuracy   0.86  0.86  0.87  0.87  0.86  0.86  0.01\n",
      "f1         0.67  0.67  0.69  0.70  0.69  0.68  0.01\n",
      "precision  0.76  0.76  0.78  0.79  0.76  0.77  0.01\n",
      "recall     0.60  0.59  0.61  0.63  0.62  0.61  0.01\n",
      "roc_auc    0.92  0.92  0.92  0.92  0.92  0.92  0.00\n",
      "----------------------------------------time: 47.7491230965-----------------------------------------\n",
      "-----------------------------------Mean values for each parameter-----------------------------------\n",
      "                20        50        80        100\n",
      "accuracy   0.853971  0.859972  0.862372  0.863422\n",
      "f1         0.656367  0.672174  0.678690  0.682029\n",
      "precision  0.753217  0.765324  0.770058  0.771176\n",
      "recall     0.582011  0.599333  0.606846  0.611437\n",
      "roc_auc    0.908314  0.914988  0.918537  0.919915\n",
      "-----------------------------------Std values for each parameter------------------------------------\n",
      "                20        50        80        100\n",
      "accuracy   0.005232  0.004579  0.004738  0.005089\n",
      "f1         0.009511  0.012776  0.013060  0.012878\n",
      "precision  0.023149  0.009682  0.011431  0.012954\n",
      "recall     0.013767  0.016036  0.016842  0.014694\n",
      "roc_auc    0.003176  0.002803  0.002683  0.002626\n"
     ]
    }
   ],
   "source": [
    "# 获得最佳模型参数\n",
    "def get_best_model(X,y):\n",
    "    \"\"\"\n",
    "    结合交叉检验以得到不同参数下的分类模型结果\n",
    "    :param X: 输入X(特征变量)\n",
    "    :param y: 输入y(目标变量)\n",
    "    :return: 特征选择模型对象\n",
    "    \"\"\"\n",
    "    # 使用f_classif方法选择特征最明显的50%数量的特征\n",
    "    transform = SelectPercentile(f_classif, percentile=50)\n",
    "    # 创建Adaboost模型对象\n",
    "    model_adaboost = AdaBoostClassifier()\n",
    "    # 建立由特征选择和分类模型构成的管道对象\n",
    "    # 目的：将特征选择和分类算法合并做交叉检验，简化交叉检验的过程\n",
    "    model_pipe = Pipeline(steps=[('ANOVA', transform), ('model_adaboost', model_adaboost)])\n",
    "    # 设置交叉检验次数\n",
    "    cv = StratifiedKFold(5)\n",
    "    # 设置交叉检验的指标\n",
    "    score_methods = ['accuracy', 'f1', 'precision', 'recall', 'roc_auc']\n",
    "    # 设置模型参数列表\n",
    "    n_estimators = [20, 50, 80, 100]\n",
    "    # 建立空列表存放不同参数得出指标的mead/std\n",
    "    mean_list, std_list = list(), list()\n",
    "    for param in n_estimators:\n",
    "        begin = time.time()\n",
    "        score_list = list()\n",
    "        fprint('set param: %s'%param)\n",
    "        for method in score_methods:\n",
    "            # 通过管道设置分类模型参数\n",
    "            model_pipe.set_params(model_adaboost__n_estimators=param)\n",
    "            # 使用交叉检验计算制定指标得分\n",
    "            score_tmp = cross_val_score(model_pipe, X, y, scoring=method, cv=cv)\n",
    "            score_list.append(score_tmp)\n",
    "        score_matrix = pd.DataFrame(np.array(score_list), index=score_methods)\n",
    "        score_mean = score_matrix.mean(axis=1).rename('mean')\n",
    "        score_std = score_matrix.std(axis=1).rename('std')\n",
    "        score_pd = pd.concat([score_matrix, score_mean, score_std], axis=1)\n",
    "        mean_list.append(score_mean)\n",
    "        std_list.append(score_std)\n",
    "        # DataFrame保留两位小数输出\n",
    "        print score_pd.round(2)\n",
    "        fprint('time: %s'%str(time.time() - begin))\n",
    "    # 建立所有参数交叉检验均值矩阵\n",
    "    mean_matrix = np.array(mean_list).T\n",
    "    # 建立所有参数交叉检验标准差矩阵\n",
    "    std_matrix = np.array(std_list).T\n",
    "    mean_pd = pd.DataFrame(mean_matrix, index=score_methods, columns=n_estimators)\n",
    "    std_pd = pd.DataFrame(std_matrix, index=score_methods, columns=n_estimators)\n",
    "    fprint('Mean values for each parameter')\n",
    "    print mean_pd\n",
    "    fprint('Std values for each parameter')\n",
    "    print std_pd\n",
    "    return transform\n",
    "transform = get_best_model(X_new, y)"
   ]
  },
  {
   "cell_type": "code",
   "execution_count": 93,
   "metadata": {},
   "outputs": [
    {
     "data": {
      "text/plain": [
       "AdaBoostClassifier(algorithm='SAMME.R', base_estimator=None,\n",
       "          learning_rate=1.0, n_estimators=80, random_state=None)"
      ]
     },
     "execution_count": 93,
     "metadata": {},
     "output_type": "execute_result"
    }
   ],
   "source": [
    "# 应用特征选择对象\n",
    "transform.fit(X_new, y)\n",
    "# 获取具有显著性的特征\n",
    "X_final = transform.transform(X_new)\n",
    "# 从上面打印的参数对比获取最佳参数80\n",
    "final_model = AdaBoostClassifier(n_estimators=80)\n",
    "# 训练模型\n",
    "final_model.fit(X_final, y)"
   ]
  },
  {
   "cell_type": "markdown",
   "metadata": {},
   "source": [
    "#### 4、新数据集做预测"
   ]
  },
  {
   "cell_type": "code",
   "execution_count": 96,
   "metadata": {},
   "outputs": [],
   "source": [
    "new_data_ = pd.read_excel('order.xlsx', sheetname=1)\n",
    "# 获取目标变量值\n",
    "final_response = new_data_['final_response']\n",
    "new_data = new_data_.drop('final_response', axis=1)"
   ]
  },
  {
   "cell_type": "code",
   "execution_count": 97,
   "metadata": {},
   "outputs": [
    {
     "name": "stdout",
     "output_type": "stream",
     "text": [
      "------------------------------------------ Data Overview -------------------------------------------\n",
      "----------------------------------- Records: 8843|Dimension: 12 ------------------------------------\n",
      "------------------------------------------- Date Sample --------------------------------------------\n",
      "   age  total_pageviews  edu  edu_ages  user_level  industry  value_level  \\\n",
      "0   61           243019   10         1         2.0       7.0            2   \n",
      "1   33           215596    4         5         2.0       7.0            2   \n",
      "2   25            31350    2        10         1.0       5.0            1   \n",
      "\n",
      "   act_level  sex  blue_money  red_money  work_hours  region  \n",
      "0          1    1           0          0          40     1.0  \n",
      "1          5    1           0          0          40     6.0  \n",
      "2          1    1           0          0          40     1.0  \n",
      "-------------------------------------------- Data Desc ---------------------------------------------\n",
      "               age  total_pageviews          edu     edu_ages   user_level  \\\n",
      "count  8843.000000     8.843000e+03  8843.000000  8843.000000  8841.000000   \n",
      "mean     38.884428     1.903636e+05     2.492141    10.083795     2.070015   \n",
      "std      13.917154     1.069146e+05     1.603766     2.560132     1.241608   \n",
      "min      17.000000     1.349200e+04     1.000000     1.000000     1.000000   \n",
      "25%      28.000000     1.177010e+05     2.000000     9.000000     1.000000   \n",
      "50%      37.000000     1.775960e+05     2.000000    10.000000     2.000000   \n",
      "75%      48.000000     2.395390e+05     2.000000    12.000000     2.000000   \n",
      "max      90.000000     1.490400e+06    10.000000    16.000000     7.000000   \n",
      "\n",
      "          industry  value_level    act_level          sex    blue_money  \\\n",
      "count  8841.000000  8843.000000  8843.000000  8843.000000   8843.000000   \n",
      "mean      5.737699     2.504128     1.216669     0.670248   1033.496438   \n",
      "std       3.416071     1.425389     0.621275     0.470150   7272.047201   \n",
      "min       1.000000     1.000000     1.000000     0.000000      0.000000   \n",
      "25%       3.000000     1.000000     1.000000     0.000000      0.000000   \n",
      "50%       5.000000     2.000000     1.000000     1.000000      0.000000   \n",
      "75%       8.000000     4.000000     1.000000     1.000000      0.000000   \n",
      "max      15.000000     6.000000     5.000000     1.000000  99999.000000   \n",
      "\n",
      "         red_money   work_hours       region  \n",
      "count  8843.000000  8843.000000  8838.000000  \n",
      "mean     88.068190    40.331449     2.332541  \n",
      "std     403.384021    12.461211     5.156087  \n",
      "min       0.000000     1.000000     1.000000  \n",
      "25%       0.000000    40.000000     1.000000  \n",
      "50%       0.000000    40.000000     1.000000  \n",
      "75%       0.000000    45.000000     1.000000  \n",
      "max    3770.000000    99.000000    40.000000  \n",
      "-------------------------------------------- Data Info ---------------------------------------------\n",
      "<class 'pandas.core.frame.DataFrame'>\n",
      "RangeIndex: 8843 entries, 0 to 8842\n",
      "Data columns (total 13 columns):\n",
      "age                8843 non-null int64\n",
      "total_pageviews    8843 non-null int64\n",
      "edu                8843 non-null int64\n",
      "edu_ages           8843 non-null int64\n",
      "user_level         8841 non-null float64\n",
      "industry           8841 non-null float64\n",
      "value_level        8843 non-null int64\n",
      "act_level          8843 non-null int64\n",
      "sex                8843 non-null int64\n",
      "blue_money         8843 non-null int64\n",
      "red_money          8843 non-null int64\n",
      "work_hours         8843 non-null int64\n",
      "region             8838 non-null float64\n",
      "dtypes: float64(3), int64(10)\n",
      "memory usage: 898.2 KB\n",
      "None\n",
      "------------------------------------------------ End------------------------------------------------\n"
     ]
    }
   ],
   "source": [
    "# 查看数据基本状态\n",
    "get_summary(new_data)"
   ]
  },
  {
   "cell_type": "code",
   "execution_count": 144,
   "metadata": {},
   "outputs": [
    {
     "name": "stdout",
     "output_type": "stream",
     "text": [
      "--------------------------------------columns get NA describe---------------------------------------\n",
      "age                False\n",
      "total_pageviews    False\n",
      "edu                False\n",
      "edu_ages           False\n",
      "user_level          True\n",
      "industry            True\n",
      "value_level        False\n",
      "act_level          False\n",
      "sex                False\n",
      "blue_money         False\n",
      "red_money          False\n",
      "work_hours         False\n",
      "region              True\n",
      "dtype: bool\n",
      "--------------------------------['user_level', 'industry', 'region']--------------------------------\n",
      "--------------------------------------------NA record 7---------------------------------------------\n"
     ]
    }
   ],
   "source": [
    "# 缺失数据审查\n",
    "def na_summary(df):\n",
    "    fprint('columns get NA describe')\n",
    "    print df.isnull().any(axis=0)\n",
    "    fprint(pd.DataFrame(df.isnull().any(axis=0), columns=['is_na']).query('is_na==True').index.tolist())\n",
    "    fprint('NA record {0}'.format(df.isnull().any(axis=1).sum()))\n",
    "na_summary(new_data)"
   ]
  },
  {
   "cell_type": "code",
   "execution_count": 109,
   "metadata": {},
   "outputs": [
    {
     "name": "stdout",
     "output_type": "stream",
     "text": [
      "Check NA exists:  0\n"
     ]
    },
    {
     "data": {
      "text/html": [
       "<div>\n",
       "<style scoped>\n",
       "    .dataframe tbody tr th:only-of-type {\n",
       "        vertical-align: middle;\n",
       "    }\n",
       "\n",
       "    .dataframe tbody tr th {\n",
       "        vertical-align: top;\n",
       "    }\n",
       "\n",
       "    .dataframe thead th {\n",
       "        text-align: right;\n",
       "    }\n",
       "</style>\n",
       "<table border=\"1\" class=\"dataframe\">\n",
       "  <thead>\n",
       "    <tr style=\"text-align: right;\">\n",
       "      <th></th>\n",
       "      <th>age</th>\n",
       "      <th>total_pageviews</th>\n",
       "      <th>edu</th>\n",
       "      <th>edu_ages</th>\n",
       "      <th>user_level</th>\n",
       "      <th>industry</th>\n",
       "      <th>value_level</th>\n",
       "      <th>act_level</th>\n",
       "      <th>sex</th>\n",
       "      <th>blue_money</th>\n",
       "      <th>red_money</th>\n",
       "      <th>work_hours</th>\n",
       "      <th>region</th>\n",
       "    </tr>\n",
       "  </thead>\n",
       "  <tbody>\n",
       "    <tr>\n",
       "      <th>0</th>\n",
       "      <td>61</td>\n",
       "      <td>243019</td>\n",
       "      <td>10</td>\n",
       "      <td>1</td>\n",
       "      <td>2.0</td>\n",
       "      <td>7.0</td>\n",
       "      <td>2</td>\n",
       "      <td>1</td>\n",
       "      <td>1</td>\n",
       "      <td>0</td>\n",
       "      <td>0</td>\n",
       "      <td>40</td>\n",
       "      <td>1.0</td>\n",
       "    </tr>\n",
       "    <tr>\n",
       "      <th>1</th>\n",
       "      <td>33</td>\n",
       "      <td>215596</td>\n",
       "      <td>4</td>\n",
       "      <td>5</td>\n",
       "      <td>2.0</td>\n",
       "      <td>7.0</td>\n",
       "      <td>2</td>\n",
       "      <td>5</td>\n",
       "      <td>1</td>\n",
       "      <td>0</td>\n",
       "      <td>0</td>\n",
       "      <td>40</td>\n",
       "      <td>6.0</td>\n",
       "    </tr>\n",
       "    <tr>\n",
       "      <th>2</th>\n",
       "      <td>25</td>\n",
       "      <td>31350</td>\n",
       "      <td>2</td>\n",
       "      <td>10</td>\n",
       "      <td>1.0</td>\n",
       "      <td>5.0</td>\n",
       "      <td>1</td>\n",
       "      <td>1</td>\n",
       "      <td>1</td>\n",
       "      <td>0</td>\n",
       "      <td>0</td>\n",
       "      <td>40</td>\n",
       "      <td>1.0</td>\n",
       "    </tr>\n",
       "  </tbody>\n",
       "</table>\n",
       "</div>"
      ],
      "text/plain": [
       "   age  total_pageviews  edu  edu_ages  user_level  industry  value_level  \\\n",
       "0   61           243019   10         1         2.0       7.0            2   \n",
       "1   33           215596    4         5         2.0       7.0            2   \n",
       "2   25            31350    2        10         1.0       5.0            1   \n",
       "\n",
       "   act_level  sex  blue_money  red_money  work_hours  region  \n",
       "0          1    1           0          0          40     1.0  \n",
       "1          5    1           0          0          40     6.0  \n",
       "2          1    1           0          0          40     1.0  "
      ]
     },
     "execution_count": 109,
     "metadata": {},
     "output_type": "execute_result"
    }
   ],
   "source": [
    "# 替换缺失值\n",
    "new_X_1 = na_replace(new_data)\n",
    "new_X_1.head(3)"
   ]
  },
  {
   "cell_type": "code",
   "execution_count": 110,
   "metadata": {},
   "outputs": [
    {
     "data": {
      "text/plain": [
       "age                int64\n",
       "total_pageviews    int64\n",
       "edu                int32\n",
       "edu_ages           int32\n",
       "user_level         int32\n",
       "industry           int32\n",
       "value_level        int64\n",
       "act_level          int32\n",
       "sex                int32\n",
       "blue_money         int64\n",
       "red_money          int64\n",
       "work_hours         int64\n",
       "region             int32\n",
       "dtype: object"
      ]
     },
     "execution_count": 110,
     "metadata": {},
     "output_type": "execute_result"
    }
   ],
   "source": [
    "# 数据类型转换\n",
    "new_X_2 = dtype_con(new_X_1)\n",
    "new_X_2.dtypes"
   ]
  },
  {
   "cell_type": "code",
   "execution_count": 111,
   "metadata": {},
   "outputs": [],
   "source": [
    "# 将分类和顺序数据转换为标志变量\n",
    "new_X_3 = symbol_transfer(new_X_2, enc_object=enc, train=False)"
   ]
  },
  {
   "cell_type": "code",
   "execution_count": 112,
   "metadata": {},
   "outputs": [],
   "source": [
    "# 对新数据集做特征选择\n",
    "new_X_final = transform.transform(new_X_3)"
   ]
  },
  {
   "cell_type": "code",
   "execution_count": 118,
   "metadata": {},
   "outputs": [
    {
     "data": {
      "text/html": [
       "<div>\n",
       "<style scoped>\n",
       "    .dataframe tbody tr th:only-of-type {\n",
       "        vertical-align: middle;\n",
       "    }\n",
       "\n",
       "    .dataframe tbody tr th {\n",
       "        vertical-align: top;\n",
       "    }\n",
       "\n",
       "    .dataframe thead th {\n",
       "        text-align: right;\n",
       "    }\n",
       "</style>\n",
       "<table border=\"1\" class=\"dataframe\">\n",
       "  <thead>\n",
       "    <tr style=\"text-align: right;\">\n",
       "      <th></th>\n",
       "      <th>age</th>\n",
       "      <th>total_pageviews</th>\n",
       "      <th>edu</th>\n",
       "      <th>edu_ages</th>\n",
       "      <th>user_level</th>\n",
       "      <th>industry</th>\n",
       "      <th>value_level</th>\n",
       "      <th>act_level</th>\n",
       "      <th>sex</th>\n",
       "      <th>blue_money</th>\n",
       "      <th>red_money</th>\n",
       "      <th>work_hours</th>\n",
       "      <th>region</th>\n",
       "      <th>labels</th>\n",
       "      <th>final_response</th>\n",
       "      <th>pro1</th>\n",
       "      <th>pro2</th>\n",
       "    </tr>\n",
       "  </thead>\n",
       "  <tbody>\n",
       "    <tr>\n",
       "      <th>0</th>\n",
       "      <td>61</td>\n",
       "      <td>243019</td>\n",
       "      <td>10</td>\n",
       "      <td>1</td>\n",
       "      <td>2.0</td>\n",
       "      <td>7.0</td>\n",
       "      <td>2</td>\n",
       "      <td>1</td>\n",
       "      <td>1</td>\n",
       "      <td>0</td>\n",
       "      <td>0</td>\n",
       "      <td>40</td>\n",
       "      <td>1.0</td>\n",
       "      <td>0</td>\n",
       "      <td>0</td>\n",
       "      <td>0.505057</td>\n",
       "      <td>0.494943</td>\n",
       "    </tr>\n",
       "    <tr>\n",
       "      <th>1</th>\n",
       "      <td>33</td>\n",
       "      <td>215596</td>\n",
       "      <td>4</td>\n",
       "      <td>5</td>\n",
       "      <td>2.0</td>\n",
       "      <td>7.0</td>\n",
       "      <td>2</td>\n",
       "      <td>5</td>\n",
       "      <td>1</td>\n",
       "      <td>0</td>\n",
       "      <td>0</td>\n",
       "      <td>40</td>\n",
       "      <td>6.0</td>\n",
       "      <td>0</td>\n",
       "      <td>0</td>\n",
       "      <td>0.508945</td>\n",
       "      <td>0.491055</td>\n",
       "    </tr>\n",
       "    <tr>\n",
       "      <th>2</th>\n",
       "      <td>25</td>\n",
       "      <td>31350</td>\n",
       "      <td>2</td>\n",
       "      <td>10</td>\n",
       "      <td>1.0</td>\n",
       "      <td>5.0</td>\n",
       "      <td>1</td>\n",
       "      <td>1</td>\n",
       "      <td>1</td>\n",
       "      <td>0</td>\n",
       "      <td>0</td>\n",
       "      <td>40</td>\n",
       "      <td>1.0</td>\n",
       "      <td>0</td>\n",
       "      <td>0</td>\n",
       "      <td>0.515232</td>\n",
       "      <td>0.484768</td>\n",
       "    </tr>\n",
       "  </tbody>\n",
       "</table>\n",
       "</div>"
      ],
      "text/plain": [
       "   age  total_pageviews  edu  edu_ages  user_level  industry  value_level  \\\n",
       "0   61           243019   10         1         2.0       7.0            2   \n",
       "1   33           215596    4         5         2.0       7.0            2   \n",
       "2   25            31350    2        10         1.0       5.0            1   \n",
       "\n",
       "   act_level  sex  blue_money  red_money  work_hours  region  labels  \\\n",
       "0          1    1           0          0          40     1.0       0   \n",
       "1          5    1           0          0          40     6.0       0   \n",
       "2          1    1           0          0          40     1.0       0   \n",
       "\n",
       "   final_response      pro1      pro2  \n",
       "0               0  0.505057  0.494943  \n",
       "1               0  0.508945  0.491055  \n",
       "2               0  0.515232  0.484768  "
      ]
     },
     "execution_count": 118,
     "metadata": {},
     "output_type": "execute_result"
    }
   ],
   "source": [
    "# 获取预测标签\n",
    "pre_labels = pd.DataFrame(final_model.predict(new_X_final), columns=['labels'])\n",
    "# 获取预测概率\n",
    "pre_labels_pro = pd.DataFrame(final_model.predict_proba(new_X_final), columns=['pro1','pro2'])\n",
    "# 合并\n",
    "pre_pd = pd.concat((new_data, pre_labels, final_response, pre_labels_pro), axis=1)\n",
    "pre_pd.head(3)"
   ]
  },
  {
   "cell_type": "code",
   "execution_count": 143,
   "metadata": {},
   "outputs": [
    {
     "name": "stdout",
     "output_type": "stream",
     "text": [
      "------------------------------------ Error rate: 0.137962230012 ------------------------------------\n"
     ]
    },
    {
     "data": {
      "text/html": [
       "<div>\n",
       "<style scoped>\n",
       "    .dataframe tbody tr th:only-of-type {\n",
       "        vertical-align: middle;\n",
       "    }\n",
       "\n",
       "    .dataframe tbody tr th {\n",
       "        vertical-align: top;\n",
       "    }\n",
       "\n",
       "    .dataframe thead th {\n",
       "        text-align: right;\n",
       "    }\n",
       "</style>\n",
       "<table border=\"1\" class=\"dataframe\">\n",
       "  <thead>\n",
       "    <tr style=\"text-align: right;\">\n",
       "      <th></th>\n",
       "      <th>age</th>\n",
       "      <th>total_pageviews</th>\n",
       "      <th>edu</th>\n",
       "      <th>edu_ages</th>\n",
       "      <th>user_level</th>\n",
       "      <th>industry</th>\n",
       "      <th>value_level</th>\n",
       "      <th>act_level</th>\n",
       "      <th>sex</th>\n",
       "      <th>blue_money</th>\n",
       "      <th>red_money</th>\n",
       "      <th>work_hours</th>\n",
       "      <th>region</th>\n",
       "      <th>labels</th>\n",
       "      <th>final_response</th>\n",
       "      <th>pro1</th>\n",
       "      <th>pro2</th>\n",
       "    </tr>\n",
       "  </thead>\n",
       "  <tbody>\n",
       "    <tr>\n",
       "      <th>15</th>\n",
       "      <td>35</td>\n",
       "      <td>191779</td>\n",
       "      <td>2</td>\n",
       "      <td>10</td>\n",
       "      <td>2.0</td>\n",
       "      <td>7.0</td>\n",
       "      <td>2</td>\n",
       "      <td>1</td>\n",
       "      <td>1</td>\n",
       "      <td>0</td>\n",
       "      <td>0</td>\n",
       "      <td>40</td>\n",
       "      <td>1.0</td>\n",
       "      <td>0</td>\n",
       "      <td>1</td>\n",
       "      <td>0.502991</td>\n",
       "      <td>0.497009</td>\n",
       "    </tr>\n",
       "    <tr>\n",
       "      <th>30</th>\n",
       "      <td>36</td>\n",
       "      <td>60269</td>\n",
       "      <td>1</td>\n",
       "      <td>13</td>\n",
       "      <td>2.0</td>\n",
       "      <td>6.0</td>\n",
       "      <td>2</td>\n",
       "      <td>1</td>\n",
       "      <td>1</td>\n",
       "      <td>0</td>\n",
       "      <td>0</td>\n",
       "      <td>40</td>\n",
       "      <td>1.0</td>\n",
       "      <td>0</td>\n",
       "      <td>1</td>\n",
       "      <td>0.500112</td>\n",
       "      <td>0.499888</td>\n",
       "    </tr>\n",
       "    <tr>\n",
       "      <th>33</th>\n",
       "      <td>61</td>\n",
       "      <td>95680</td>\n",
       "      <td>2</td>\n",
       "      <td>10</td>\n",
       "      <td>2.0</td>\n",
       "      <td>10.0</td>\n",
       "      <td>2</td>\n",
       "      <td>3</td>\n",
       "      <td>1</td>\n",
       "      <td>0</td>\n",
       "      <td>0</td>\n",
       "      <td>40</td>\n",
       "      <td>1.0</td>\n",
       "      <td>0</td>\n",
       "      <td>1</td>\n",
       "      <td>0.502785</td>\n",
       "      <td>0.497215</td>\n",
       "    </tr>\n",
       "  </tbody>\n",
       "</table>\n",
       "</div>"
      ],
      "text/plain": [
       "    age  total_pageviews  edu  edu_ages  user_level  industry  value_level  \\\n",
       "15   35           191779    2        10         2.0       7.0            2   \n",
       "30   36            60269    1        13         2.0       6.0            2   \n",
       "33   61            95680    2        10         2.0      10.0            2   \n",
       "\n",
       "    act_level  sex  blue_money  red_money  work_hours  region  labels  \\\n",
       "15          1    1           0          0          40     1.0       0   \n",
       "30          1    1           0          0          40     1.0       0   \n",
       "33          3    1           0          0          40     1.0       0   \n",
       "\n",
       "    final_response      pro1      pro2  \n",
       "15               1  0.502991  0.497009  \n",
       "30               1  0.500112  0.499888  \n",
       "33               1  0.502785  0.497215  "
      ]
     },
     "execution_count": 143,
     "metadata": {},
     "output_type": "execute_result"
    }
   ],
   "source": [
    "# 对比结果，手动计算错误率\n",
    "fprint(' Error rate: {0} '.format(float(pre_pd.query('labels != final_response').shape[0])/float(pre_pd.shape[0])))\n",
    "pre_pd.query('labels != final_response').head(3)"
   ]
  },
  {
   "cell_type": "code",
   "execution_count": 141,
   "metadata": {},
   "outputs": [
    {
     "name": "stdout",
     "output_type": "stream",
     "text": [
      "---------------------------------- Accuracy rate: 0.862037769988 -----------------------------------\n"
     ]
    }
   ],
   "source": [
    "# 用accuracy_score得出精准率\n",
    "fprint(' Accuracy rate: {0} '.format(accuracy_score(final_response, pre_labels)))"
   ]
  }
 ],
 "metadata": {
  "kernelspec": {
   "display_name": "Python 2",
   "language": "python",
   "name": "python2"
  },
  "language_info": {
   "codemirror_mode": {
    "name": "ipython",
    "version": 2
   },
   "file_extension": ".py",
   "mimetype": "text/x-python",
   "name": "python",
   "nbconvert_exporter": "python",
   "pygments_lexer": "ipython2",
   "version": "2.7.15"
  }
 },
 "nbformat": 4,
 "nbformat_minor": 2
}
